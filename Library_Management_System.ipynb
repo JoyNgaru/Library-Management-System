import pandas as pd  # Import pandas (if needed later for data management)

# List to store books in the library
library_books = []

# Dictionary to store borrowed books and users who borrowed them
borrowed_books = {}

# Function to Add a Book to the Library
def add_book(book_title, author):
    library_books.append({"title": book_title, "author": author})
    print(f'Book "{book_title}" by {author} added to the library.')

# Function to Search for a Book
def search_book(book_title):
    for book in library_books:
        if book['title'].lower() == book_title.lower():
            print(f'Book found: {book["title"]} by {book["author"]}')
            return
    print('Book not found.')

# Function to Borrow a Book
def borrow_book(book_title, user_name):
    for book in library_books:
        if book['title'].lower() == book_title.lower():
            borrowed_books[book_title] = user_name
            library_books.remove(book)
            print(f'Book "{book_title}" borrowed by {user_name}.')
            return
    print(f'Sorry, "{book_title}" is not available.')

# Function to Return a Book
def return_book(book_title):
    if book_title in borrowed_books:
        user_name = borrowed_books.pop(book_title)
        library_books.append({"title": book_title, "author": "Unknown"})  # Assuming author is unknown when returned
        print(f'Book "{book_title}" returned by {user_name}.')
    else:
        print(f'Book "{book_title}" was not borrowed.')

# Library Menu to Interact with Users
def library_menu():
    while True:
        print("\nLibrary Menu:")
        print("1. Add a Book")
        print("2. Search for a Book")
        print("3. Borrow a Book")
        print("4. Return a Book")
        print("5. Exit")

        choice = input("Enter your choice (1-5): ")

        if choice == '1':
            title = input("Enter the book title: ")
            author = input("Enter the author: ")
            add_book(title, author)
        elif choice == '2':
            title = input("Enter the book title: ")
            search_book(title)
        elif choice == '3':
            title = input("Enter the book title: ")
            user = input("Enter your name: ")
            borrow_book(title, user)
        elif choice == '4':
            title = input("Enter the book title: ")
            return_book(title)
        elif choice == '5':
            print("Exiting the Library Management System. Goodbye!")
            break
        else:
            print("Invalid choice, please try again.")

# Run the library menu
library_menu()
